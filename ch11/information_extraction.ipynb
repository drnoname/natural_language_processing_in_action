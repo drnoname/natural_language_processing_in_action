{
 "cells": [
  {
   "cell_type": "markdown",
   "metadata": {},
   "source": [
    "# Information Extraction\n",
    "\n",
    "## 1. Named Entity and relations\n",
    "\n",
    "extract information & facts --- know what user is saying.\n",
    "\n",
    "- 提取named entity\n",
    "- 提取named entity 之间的关系\n",
    "\n",
    "### 1.1 Knowledge base\n",
    "\n",
    "chatbot 通常把extracted information 存储在一个knowledge base 中。\n",
    "\n",
    "global knowledge base:\n",
    "\n",
    "context: 与当前会话(se ssion) 相关的knowledge。会话的context 信息可以存在global knowledge base，也可以存在一个单另的knowledge base\n",
    "\n"
   ]
  },
  {
   "cell_type": "code",
   "execution_count": null,
   "metadata": {},
   "outputs": [],
   "source": []
  }
 ],
 "metadata": {
  "kernelspec": {
   "display_name": "Python 3",
   "language": "python",
   "name": "python3"
  },
  "language_info": {
   "codemirror_mode": {
    "name": "ipython",
    "version": 3
   },
   "file_extension": ".py",
   "mimetype": "text/x-python",
   "name": "python",
   "nbconvert_exporter": "python",
   "pygments_lexer": "ipython3",
   "version": "3.6.8"
  }
 },
 "nbformat": 4,
 "nbformat_minor": 2
}
