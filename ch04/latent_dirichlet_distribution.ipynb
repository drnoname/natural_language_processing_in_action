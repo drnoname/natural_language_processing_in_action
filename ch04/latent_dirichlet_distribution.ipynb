{
 "cells": [
  {
   "cell_type": "markdown",
   "metadata": {},
   "source": [
    "# Latent Drichlet Allocation (LDA)\n",
    "\n",
    "LSA 依然是我们的第一选择，常用于topic modeling, semantic search, content-based recommondation engines.\n",
    "- linear transformation\n",
    "\n",
    "#### Latent Drichlet Allocation (LDA)\n",
    "\n",
    "- LDA 在某些场景有更好的体验. \n",
    "- 区别在于，LDA 假设词频的分布是Dirichlet Distribution.\n",
    "- LDA 的topic model 更容易理解(interpret)\n",
    "    - term-topic / topic-document vectors 更有意义。\n",
    "\n",
    "生成一个document 服从两个分布： \n",
    "1. Number of words to generate for the document (Poisson distribution)\n",
    "2. Number of topics to mix together for the document (Dirichlet distribution)"
   ]
  }
 ],
 "metadata": {
  "kernelspec": {
   "display_name": "Python 3",
   "language": "python",
   "name": "python3"
  },
  "language_info": {
   "codemirror_mode": {
    "name": "ipython",
    "version": 3
   },
   "file_extension": ".py",
   "mimetype": "text/x-python",
   "name": "python",
   "nbconvert_exporter": "python",
   "pygments_lexer": "ipython3",
   "version": "3.7.4"
  }
 },
 "nbformat": 4,
 "nbformat_minor": 2
}
