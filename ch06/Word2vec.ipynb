{
 "cells": [
  {
   "cell_type": "markdown",
   "metadata": {},
   "source": [
    "# Word2vec\n",
    "\n",
    "之前，我们只是通过单词的计数来判断语义信息，但是忽略了一个单词的context 信息。\n",
    "\n",
    "we ignored the nearby context of a word. We ignored the words around each word. We ignored the effect the neighbors of a word have on its meaning and how those relationships affect the overall meaning of a statement.\n",
    "\n",
    "⚠️ 每个单词的neighbors 不能超出sentence 的边界。即，每个句子的第一个词，没有左邻居，只有右邻居。\n",
    "\n",
    "**bag-of-words**: statistical bag\n",
    "- 向量操作没有太大的意义，例如，向量加，向量减\n",
    "- 没办法找同义词，反义词\n"
   ]
  },
  {
   "cell_type": "code",
   "execution_count": null,
   "metadata": {},
   "outputs": [],
   "source": []
  }
 ],
 "metadata": {
  "kernelspec": {
   "display_name": "Python 3",
   "language": "python",
   "name": "python3"
  },
  "language_info": {
   "codemirror_mode": {
    "name": "ipython",
    "version": 3
   },
   "file_extension": ".py",
   "mimetype": "text/x-python",
   "name": "python",
   "nbconvert_exporter": "python",
   "pygments_lexer": "ipython3",
   "version": "3.6.4"
  }
 },
 "nbformat": 4,
 "nbformat_minor": 2
}
