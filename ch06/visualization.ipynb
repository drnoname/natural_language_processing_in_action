{
 "cells": [
  {
   "cell_type": "markdown",
   "metadata": {},
   "source": [
    "# Word Vector Visualization\n",
    "\n",
    "visualization: interesting discoveries"
   ]
  },
  {
   "cell_type": "code",
   "execution_count": 1,
   "metadata": {},
   "outputs": [],
   "source": [
    "from gensim.models.keyedvectors import KeyedVectors"
   ]
  },
  {
   "cell_type": "markdown",
   "metadata": {},
   "source": [
    "#### 1. load data"
   ]
  },
  {
   "cell_type": "code",
   "execution_count": 2,
   "metadata": {},
   "outputs": [],
   "source": [
    "word2vec_bin_file = '/Users/chenwang/Workspace/datasets/GoogleNews-vectors-negative300.bin.gz'\n",
    "\n",
    "word_vectors = KeyedVectors.load_word2vec_format(word2vec_bin_file, binary=True)"
   ]
  },
  {
   "cell_type": "markdown",
   "metadata": {},
   "source": [
    "#### 2. check word vectors for a specific word"
   ]
  },
  {
   "cell_type": "code",
   "execution_count": 13,
   "metadata": {},
   "outputs": [
    {
     "data": {
      "text/plain": [
       "array([-0.05419922,  0.01708984, -0.00527954,  0.33203125, -0.25      ,\n",
       "       -0.01397705, -0.15039062, -0.265625  ,  0.01647949,  0.3828125 ,\n",
       "       -0.03295898, -0.09716797, -0.16308594, -0.04443359,  0.00946045,\n",
       "        0.18457031,  0.03637695,  0.16601562,  0.36328125, -0.25585938,\n",
       "        0.375     ,  0.171875  ,  0.21386719, -0.19921875,  0.13085938,\n",
       "       -0.07275391, -0.02819824,  0.11621094,  0.15332031,  0.09082031,\n",
       "        0.06787109, -0.0300293 , -0.16894531, -0.20800781, -0.03710938,\n",
       "       -0.22753906,  0.26367188,  0.012146  ,  0.18359375,  0.31054688,\n",
       "       -0.10791016, -0.19140625,  0.21582031,  0.13183594, -0.03515625,\n",
       "        0.18554688, -0.30859375,  0.04785156, -0.10986328,  0.14355469,\n",
       "       -0.43554688, -0.0378418 ,  0.10839844,  0.140625  , -0.10595703,\n",
       "        0.26171875, -0.17089844,  0.39453125,  0.12597656, -0.27734375,\n",
       "       -0.28125   ,  0.14746094, -0.20996094,  0.02355957,  0.18457031,\n",
       "        0.00445557, -0.27929688, -0.03637695, -0.29296875,  0.19628906,\n",
       "        0.20703125,  0.2890625 , -0.20507812,  0.06787109, -0.43164062,\n",
       "       -0.10986328, -0.2578125 , -0.02331543,  0.11328125,  0.23144531,\n",
       "       -0.04418945,  0.10839844, -0.2890625 , -0.09521484, -0.10351562,\n",
       "       -0.0324707 ,  0.07763672, -0.13378906,  0.22949219,  0.06298828,\n",
       "        0.08349609,  0.02929688, -0.11474609,  0.00534058, -0.12988281,\n",
       "        0.02514648,  0.08789062,  0.24511719, -0.11474609, -0.296875  ,\n",
       "       -0.59375   , -0.29492188, -0.13378906,  0.27734375, -0.04174805,\n",
       "        0.11621094,  0.28320312,  0.00241089,  0.13867188, -0.00683594,\n",
       "       -0.30078125,  0.16210938,  0.01171875, -0.13867188,  0.48828125,\n",
       "        0.02880859,  0.02416992,  0.04736328,  0.05859375, -0.23828125,\n",
       "        0.02758789,  0.05981445, -0.03857422,  0.06933594,  0.14941406,\n",
       "       -0.10888672, -0.07324219,  0.08789062,  0.27148438,  0.06591797,\n",
       "       -0.37890625, -0.26171875, -0.13183594,  0.09570312, -0.3125    ,\n",
       "        0.10205078,  0.03063965,  0.23632812,  0.00582886,  0.27734375,\n",
       "        0.20507812, -0.17871094, -0.31445312, -0.01586914,  0.13964844,\n",
       "        0.13574219,  0.0390625 , -0.29296875,  0.234375  , -0.33984375,\n",
       "       -0.11816406,  0.10644531, -0.18457031, -0.02099609,  0.02563477,\n",
       "        0.25390625,  0.07275391,  0.13574219, -0.00138092, -0.2578125 ,\n",
       "       -0.2890625 ,  0.10107422,  0.19238281, -0.04882812,  0.27929688,\n",
       "       -0.3359375 , -0.07373047,  0.01879883, -0.10986328, -0.04614258,\n",
       "        0.15722656,  0.06689453, -0.03417969,  0.16308594,  0.08642578,\n",
       "        0.44726562,  0.02026367, -0.01977539,  0.07958984,  0.17773438,\n",
       "       -0.04370117, -0.00952148,  0.16503906,  0.17285156,  0.23144531,\n",
       "       -0.04272461,  0.02355957,  0.18359375, -0.41601562, -0.01745605,\n",
       "        0.16796875,  0.04736328,  0.14257812,  0.08496094,  0.33984375,\n",
       "        0.1484375 , -0.34375   , -0.14160156, -0.06835938, -0.14648438,\n",
       "       -0.02844238,  0.07421875, -0.07666016,  0.12695312,  0.05859375,\n",
       "       -0.07568359, -0.03344727,  0.23632812, -0.16308594,  0.16503906,\n",
       "        0.1484375 , -0.2421875 , -0.3515625 , -0.30664062,  0.00491333,\n",
       "        0.17675781,  0.46289062,  0.14257812, -0.25      , -0.25976562,\n",
       "        0.04370117,  0.34960938,  0.05957031,  0.07617188, -0.02868652,\n",
       "       -0.09667969, -0.01281738,  0.05859375, -0.22949219, -0.1953125 ,\n",
       "       -0.12207031,  0.20117188, -0.42382812,  0.06005859,  0.50390625,\n",
       "        0.20898438,  0.11230469, -0.06054688,  0.33203125,  0.07421875,\n",
       "       -0.05786133,  0.11083984, -0.06494141,  0.05639648,  0.01757812,\n",
       "        0.08398438,  0.13769531,  0.2578125 ,  0.16796875, -0.16894531,\n",
       "        0.01794434,  0.16015625,  0.26171875,  0.31640625, -0.24804688,\n",
       "        0.05371094, -0.0859375 ,  0.17089844, -0.39453125, -0.00156403,\n",
       "       -0.07324219, -0.04614258, -0.16210938, -0.15722656,  0.21289062,\n",
       "       -0.15820312,  0.04394531,  0.28515625,  0.01196289, -0.26953125,\n",
       "       -0.04370117,  0.37109375,  0.04663086, -0.19726562,  0.3046875 ,\n",
       "       -0.36523438, -0.23632812,  0.08056641, -0.04248047, -0.14648438,\n",
       "       -0.06225586, -0.0534668 , -0.05664062,  0.18945312,  0.37109375,\n",
       "       -0.22070312,  0.04638672,  0.02612305, -0.11474609,  0.265625  ,\n",
       "       -0.02453613,  0.11083984, -0.02514648, -0.12060547,  0.05297852,\n",
       "        0.07128906,  0.00063705, -0.36523438, -0.13769531, -0.12890625],\n",
       "      dtype=float32)"
      ]
     },
     "execution_count": 13,
     "metadata": {},
     "output_type": "execute_result"
    }
   ],
   "source": [
    "word_vectors['hello']"
   ]
  },
  {
   "cell_type": "code",
   "execution_count": 14,
   "metadata": {},
   "outputs": [
    {
     "data": {
      "text/plain": [
       "array([-0.05419922,  0.01708984, -0.00527954,  0.33203125, -0.25      ,\n",
       "       -0.01397705, -0.15039062, -0.265625  ,  0.01647949,  0.3828125 ,\n",
       "       -0.03295898, -0.09716797, -0.16308594, -0.04443359,  0.00946045,\n",
       "        0.18457031,  0.03637695,  0.16601562,  0.36328125, -0.25585938,\n",
       "        0.375     ,  0.171875  ,  0.21386719, -0.19921875,  0.13085938,\n",
       "       -0.07275391, -0.02819824,  0.11621094,  0.15332031,  0.09082031,\n",
       "        0.06787109, -0.0300293 , -0.16894531, -0.20800781, -0.03710938,\n",
       "       -0.22753906,  0.26367188,  0.012146  ,  0.18359375,  0.31054688,\n",
       "       -0.10791016, -0.19140625,  0.21582031,  0.13183594, -0.03515625,\n",
       "        0.18554688, -0.30859375,  0.04785156, -0.10986328,  0.14355469,\n",
       "       -0.43554688, -0.0378418 ,  0.10839844,  0.140625  , -0.10595703,\n",
       "        0.26171875, -0.17089844,  0.39453125,  0.12597656, -0.27734375,\n",
       "       -0.28125   ,  0.14746094, -0.20996094,  0.02355957,  0.18457031,\n",
       "        0.00445557, -0.27929688, -0.03637695, -0.29296875,  0.19628906,\n",
       "        0.20703125,  0.2890625 , -0.20507812,  0.06787109, -0.43164062,\n",
       "       -0.10986328, -0.2578125 , -0.02331543,  0.11328125,  0.23144531,\n",
       "       -0.04418945,  0.10839844, -0.2890625 , -0.09521484, -0.10351562,\n",
       "       -0.0324707 ,  0.07763672, -0.13378906,  0.22949219,  0.06298828,\n",
       "        0.08349609,  0.02929688, -0.11474609,  0.00534058, -0.12988281,\n",
       "        0.02514648,  0.08789062,  0.24511719, -0.11474609, -0.296875  ,\n",
       "       -0.59375   , -0.29492188, -0.13378906,  0.27734375, -0.04174805,\n",
       "        0.11621094,  0.28320312,  0.00241089,  0.13867188, -0.00683594,\n",
       "       -0.30078125,  0.16210938,  0.01171875, -0.13867188,  0.48828125,\n",
       "        0.02880859,  0.02416992,  0.04736328,  0.05859375, -0.23828125,\n",
       "        0.02758789,  0.05981445, -0.03857422,  0.06933594,  0.14941406,\n",
       "       -0.10888672, -0.07324219,  0.08789062,  0.27148438,  0.06591797,\n",
       "       -0.37890625, -0.26171875, -0.13183594,  0.09570312, -0.3125    ,\n",
       "        0.10205078,  0.03063965,  0.23632812,  0.00582886,  0.27734375,\n",
       "        0.20507812, -0.17871094, -0.31445312, -0.01586914,  0.13964844,\n",
       "        0.13574219,  0.0390625 , -0.29296875,  0.234375  , -0.33984375,\n",
       "       -0.11816406,  0.10644531, -0.18457031, -0.02099609,  0.02563477,\n",
       "        0.25390625,  0.07275391,  0.13574219, -0.00138092, -0.2578125 ,\n",
       "       -0.2890625 ,  0.10107422,  0.19238281, -0.04882812,  0.27929688,\n",
       "       -0.3359375 , -0.07373047,  0.01879883, -0.10986328, -0.04614258,\n",
       "        0.15722656,  0.06689453, -0.03417969,  0.16308594,  0.08642578,\n",
       "        0.44726562,  0.02026367, -0.01977539,  0.07958984,  0.17773438,\n",
       "       -0.04370117, -0.00952148,  0.16503906,  0.17285156,  0.23144531,\n",
       "       -0.04272461,  0.02355957,  0.18359375, -0.41601562, -0.01745605,\n",
       "        0.16796875,  0.04736328,  0.14257812,  0.08496094,  0.33984375,\n",
       "        0.1484375 , -0.34375   , -0.14160156, -0.06835938, -0.14648438,\n",
       "       -0.02844238,  0.07421875, -0.07666016,  0.12695312,  0.05859375,\n",
       "       -0.07568359, -0.03344727,  0.23632812, -0.16308594,  0.16503906,\n",
       "        0.1484375 , -0.2421875 , -0.3515625 , -0.30664062,  0.00491333,\n",
       "        0.17675781,  0.46289062,  0.14257812, -0.25      , -0.25976562,\n",
       "        0.04370117,  0.34960938,  0.05957031,  0.07617188, -0.02868652,\n",
       "       -0.09667969, -0.01281738,  0.05859375, -0.22949219, -0.1953125 ,\n",
       "       -0.12207031,  0.20117188, -0.42382812,  0.06005859,  0.50390625,\n",
       "        0.20898438,  0.11230469, -0.06054688,  0.33203125,  0.07421875,\n",
       "       -0.05786133,  0.11083984, -0.06494141,  0.05639648,  0.01757812,\n",
       "        0.08398438,  0.13769531,  0.2578125 ,  0.16796875, -0.16894531,\n",
       "        0.01794434,  0.16015625,  0.26171875,  0.31640625, -0.24804688,\n",
       "        0.05371094, -0.0859375 ,  0.17089844, -0.39453125, -0.00156403,\n",
       "       -0.07324219, -0.04614258, -0.16210938, -0.15722656,  0.21289062,\n",
       "       -0.15820312,  0.04394531,  0.28515625,  0.01196289, -0.26953125,\n",
       "       -0.04370117,  0.37109375,  0.04663086, -0.19726562,  0.3046875 ,\n",
       "       -0.36523438, -0.23632812,  0.08056641, -0.04248047, -0.14648438,\n",
       "       -0.06225586, -0.0534668 , -0.05664062,  0.18945312,  0.37109375,\n",
       "       -0.22070312,  0.04638672,  0.02612305, -0.11474609,  0.265625  ,\n",
       "       -0.02453613,  0.11083984, -0.02514648, -0.12060547,  0.05297852,\n",
       "        0.07128906,  0.00063705, -0.36523438, -0.13769531, -0.12890625],\n",
       "      dtype=float32)"
      ]
     },
     "execution_count": 14,
     "metadata": {},
     "output_type": "execute_result"
    }
   ],
   "source": [
    "word_vectors.__getitem__('hello')"
   ]
  },
  {
   "cell_type": "markdown",
   "metadata": {},
   "source": [
    "#### 3. vectors of compound words\n",
    "\n",
    "n-grams 使用下划线连接"
   ]
  },
  {
   "cell_type": "code",
   "execution_count": 15,
   "metadata": {},
   "outputs": [
    {
     "data": {
      "text/plain": [
       "array([-1.19140625e-01,  2.65625000e-01, -1.69921875e-01,  1.50390625e-01,\n",
       "       -6.88476562e-02,  1.45507812e-01, -3.22265625e-01, -7.12890625e-02,\n",
       "       -1.81884766e-02, -5.29785156e-02, -1.79687500e-01,  2.94921875e-01,\n",
       "        1.30859375e-01,  9.71679688e-02,  1.33789062e-01, -4.76074219e-02,\n",
       "       -1.30859375e-01,  1.21093750e-01, -3.16406250e-01,  3.18359375e-01,\n",
       "       -2.27050781e-02, -4.05273438e-02, -1.98242188e-01, -8.59375000e-02,\n",
       "       -8.15429688e-02,  1.81640625e-01, -3.90625000e-02,  3.32031250e-02,\n",
       "       -3.51562500e-01,  1.04980469e-02,  1.21093750e-01, -9.81445312e-02,\n",
       "       -6.68945312e-02, -6.25000000e-02,  1.75781250e-01,  8.93554688e-02,\n",
       "        3.19824219e-02, -1.08886719e-01,  4.82177734e-03,  2.77343750e-01,\n",
       "       -1.04980469e-01, -8.59375000e-02,  4.24804688e-02, -1.35742188e-01,\n",
       "       -1.36718750e-01,  3.73046875e-01,  8.15429688e-02, -6.39648438e-02,\n",
       "        2.98828125e-01,  2.27539062e-01,  1.81640625e-01,  7.81250000e-02,\n",
       "        3.83300781e-02, -1.66992188e-01, -1.51367188e-01,  9.17968750e-02,\n",
       "       -4.05273438e-02, -1.68457031e-02, -1.94335938e-01, -2.13867188e-01,\n",
       "       -6.78710938e-02,  1.29882812e-01, -3.46679688e-02, -2.88085938e-02,\n",
       "        9.76562500e-02, -1.15234375e-01, -7.56835938e-02,  2.34375000e-01,\n",
       "        5.51757812e-02,  1.27563477e-02, -1.66015625e-01, -7.61718750e-02,\n",
       "       -3.04687500e-01,  3.14453125e-01, -1.75781250e-01,  4.63867188e-02,\n",
       "        9.32617188e-02,  7.66601562e-02,  1.98242188e-01,  9.17968750e-02,\n",
       "        2.22167969e-02,  1.39648438e-01,  7.91015625e-02, -1.54296875e-01,\n",
       "       -2.28515625e-01, -3.73535156e-02, -1.91650391e-02,  1.91406250e-01,\n",
       "       -3.49121094e-02, -1.25976562e-01,  9.17968750e-02,  1.41601562e-02,\n",
       "       -2.12402344e-02, -2.21679688e-01,  1.42578125e-01, -1.78527832e-03,\n",
       "        1.13769531e-01, -9.03320312e-02, -3.76953125e-01,  2.08007812e-01,\n",
       "        2.75878906e-02, -6.49414062e-02, -1.00585938e-01, -1.47460938e-01,\n",
       "        8.98437500e-02, -2.89062500e-01,  2.68554688e-02,  5.81054688e-02,\n",
       "        2.11914062e-01, -1.25000000e-01, -4.51660156e-02,  1.44042969e-02,\n",
       "        6.73828125e-02, -3.45703125e-01,  6.12792969e-02,  1.58203125e-01,\n",
       "       -6.78710938e-02, -5.46875000e-02,  2.49023438e-01,  2.94921875e-01,\n",
       "       -4.08203125e-01, -2.30468750e-01, -1.75781250e-01,  3.80859375e-02,\n",
       "        6.01562500e-01, -3.93066406e-02, -1.11694336e-02,  2.34375000e-01,\n",
       "       -1.13281250e-01, -1.97265625e-01,  1.96289062e-01, -2.02636719e-02,\n",
       "       -1.20605469e-01,  2.89306641e-02,  3.68118286e-04, -5.46264648e-03,\n",
       "       -2.00195312e-01,  1.51367188e-01,  2.41088867e-03, -5.92041016e-03,\n",
       "       -8.83789062e-02, -2.51953125e-01, -1.25000000e-01, -2.75390625e-01,\n",
       "        4.02343750e-01,  8.59375000e-02,  1.70898438e-01,  6.83593750e-02,\n",
       "       -1.26953125e-01,  3.63281250e-01,  1.78710938e-01,  2.85156250e-01,\n",
       "        1.37939453e-02,  2.01171875e-01,  1.13281250e-01, -1.84326172e-02,\n",
       "        5.41992188e-02, -3.59375000e-01, -8.05664062e-02, -2.25830078e-02,\n",
       "       -2.28515625e-01,  3.58886719e-02,  2.59765625e-01,  2.02148438e-01,\n",
       "        9.32617188e-02, -9.99450684e-04,  1.72851562e-01, -1.66015625e-01,\n",
       "       -4.80957031e-02,  4.19921875e-02,  7.95898438e-02, -2.92968750e-01,\n",
       "       -1.01562500e-01,  1.63085938e-01, -5.88378906e-02, -8.59375000e-02,\n",
       "       -2.96630859e-02, -3.16406250e-01, -8.69140625e-02, -1.85546875e-02,\n",
       "       -2.65625000e-01, -1.27929688e-01, -8.88671875e-02, -2.94921875e-01,\n",
       "        1.08886719e-01, -6.44531250e-02, -1.65039062e-01,  2.96630859e-02,\n",
       "        1.25000000e-01, -9.96093750e-02,  1.15234375e-01,  2.04101562e-01,\n",
       "        5.66406250e-02,  6.64062500e-02, -2.41210938e-01,  1.79687500e-01,\n",
       "       -7.32421875e-02, -1.39648438e-01, -5.27343750e-02, -1.09375000e-01,\n",
       "        1.04492188e-01, -1.52343750e-01,  5.27343750e-02,  2.02636719e-02,\n",
       "        1.27792358e-04, -1.28906250e-01, -1.38671875e-01,  1.52343750e-01,\n",
       "        3.56445312e-02, -1.03027344e-01, -2.77343750e-01, -4.49218750e-02,\n",
       "        7.22656250e-02, -1.71875000e-01, -4.22363281e-02,  1.91406250e-01,\n",
       "       -7.51953125e-02,  1.24511719e-01,  1.67968750e-01, -2.39257812e-02,\n",
       "        1.67968750e-01, -1.27929688e-01, -2.51953125e-01, -2.11181641e-02,\n",
       "        7.71484375e-02,  3.22265625e-02,  5.39550781e-02,  3.94531250e-01,\n",
       "        1.31225586e-02, -2.23632812e-01,  8.77380371e-04,  1.52343750e-01,\n",
       "       -2.92968750e-02, -4.24804688e-02,  8.74023438e-02,  2.55859375e-01,\n",
       "       -1.53320312e-01, -7.66601562e-02,  3.16406250e-01, -1.74804688e-01,\n",
       "        1.92382812e-01, -7.17773438e-02, -3.71093750e-02, -1.24511719e-01,\n",
       "       -1.83593750e-01,  1.74804688e-01, -2.00195312e-02,  8.59375000e-02,\n",
       "        5.51757812e-02, -2.47070312e-01,  2.71484375e-01, -1.30859375e-01,\n",
       "        1.45874023e-02, -9.46044922e-04,  5.00488281e-02,  1.06445312e-01,\n",
       "        5.44433594e-02, -2.41210938e-01, -1.19140625e-01, -5.78613281e-02,\n",
       "       -5.93261719e-02,  7.27539062e-02,  2.92968750e-01, -2.56347656e-02,\n",
       "        3.14453125e-01, -8.93554688e-02, -5.51757812e-02, -3.41796875e-01,\n",
       "       -4.05273438e-02, -3.34472656e-02, -1.38671875e-01, -9.08203125e-02,\n",
       "        5.98144531e-02,  1.98242188e-01,  9.96093750e-02,  3.53515625e-01,\n",
       "       -1.51367188e-01,  3.45703125e-01, -3.08837891e-02, -8.42285156e-03,\n",
       "       -4.78515625e-02, -4.34570312e-02, -2.71484375e-01, -3.80859375e-02,\n",
       "       -5.66406250e-02,  5.71289062e-02, -5.20019531e-02,  4.24804688e-02,\n",
       "       -9.86328125e-02,  1.20605469e-01,  1.71875000e-01,  2.88085938e-02,\n",
       "        1.77734375e-01,  1.53320312e-01, -1.18164062e-01, -1.14746094e-01,\n",
       "       -2.55859375e-01, -5.12695312e-02, -1.87500000e-01, -2.40478516e-02],\n",
       "      dtype=float32)"
      ]
     },
     "execution_count": 15,
     "metadata": {},
     "output_type": "execute_result"
    }
   ],
   "source": [
    "word_vectors.__getitem__('Los_Angeles')"
   ]
  },
  {
   "cell_type": "markdown",
   "metadata": {},
   "source": [
    "#### 4. 计算距离"
   ]
  },
  {
   "cell_type": "code",
   "execution_count": 16,
   "metadata": {},
   "outputs": [],
   "source": [
    "import numpy as np"
   ]
  },
  {
   "cell_type": "markdown",
   "metadata": {},
   "source": [
    "计算两个单词的欧式距离"
   ]
  },
  {
   "cell_type": "code",
   "execution_count": 17,
   "metadata": {},
   "outputs": [
    {
     "data": {
      "text/plain": [
       "3.36538"
      ]
     },
     "execution_count": 17,
     "metadata": {},
     "output_type": "execute_result"
    }
   ],
   "source": [
    "np.linalg.norm(word_vectors['Illinois'] - word_vectors['Illini'])\n",
    "\n"
   ]
  },
  {
   "cell_type": "markdown",
   "metadata": {},
   "source": [
    "计算两个节点的cosine 距离"
   ]
  },
  {
   "cell_type": "code",
   "execution_count": 19,
   "metadata": {},
   "outputs": [
    {
     "data": {
      "text/plain": [
       "0.5501352"
      ]
     },
     "execution_count": 19,
     "metadata": {},
     "output_type": "execute_result"
    }
   ],
   "source": [
    "cos_similarity = np.dot(word_vectors['Illinois'], word_vectors['Illini']) / (np.linalg.norm(word_vectors['Illinois']) * np.linalg.norm(word_vectors['Illini']))\n",
    "cos_similarity\n",
    "\n"
   ]
  },
  {
   "cell_type": "code",
   "execution_count": 20,
   "metadata": {},
   "outputs": [
    {
     "data": {
      "text/plain": [
       "0.44986480474472046"
      ]
     },
     "execution_count": 20,
     "metadata": {},
     "output_type": "execute_result"
    }
   ],
   "source": [
    "# Cosine distance\n",
    "\n",
    "1 - cos_similarity"
   ]
  },
  {
   "cell_type": "markdown",
   "metadata": {},
   "source": [
    "从上面的结果可以看出，这两个词的语义距离差距不大。"
   ]
  },
  {
   "cell_type": "code",
   "execution_count": null,
   "metadata": {},
   "outputs": [],
   "source": []
  },
  {
   "cell_type": "code",
   "execution_count": null,
   "metadata": {},
   "outputs": [],
   "source": []
  },
  {
   "cell_type": "markdown",
   "metadata": {},
   "source": [
    "## 2. visualization"
   ]
  },
  {
   "cell_type": "code",
   "execution_count": 22,
   "metadata": {},
   "outputs": [
    {
     "data": {
      "text/plain": [
       "['geonameid',\n",
       " 'name',\n",
       " 'asciiname',\n",
       " 'alternatenames',\n",
       " 'latitude',\n",
       " 'longitude',\n",
       " 'feature class',\n",
       " 'feature code',\n",
       " 'country code',\n",
       " 'cc2',\n",
       " 'admin1_code',\n",
       " 'admin2_code',\n",
       " 'admin3_code',\n",
       " 'admin4_code',\n",
       " 'population',\n",
       " 'elevation',\n",
       " 'dem',\n",
       " 'timezone',\n",
       " 'modification date']"
      ]
     },
     "execution_count": 22,
     "metadata": {},
     "output_type": "execute_result"
    }
   ],
   "source": [
    "columns = ['geonameid', 'name', 'asciiname', 'alternatenames', 'latitude', 'longitude', 'feature class',\n",
    "               'feature code', 'country code']\n",
    "columns += ['cc2', 'admin1_code', 'admin2_code', 'admin3_code', 'admin4_code', 'population', 'elevation',\n",
    "                'dem', 'timezone', 'modification date']\n",
    "\n",
    "columns"
   ]
  },
  {
   "cell_type": "code",
   "execution_count": 23,
   "metadata": {},
   "outputs": [
    {
     "data": {
      "text/plain": [
       "['geonameid',\n",
       " 'name',\n",
       " 'asciiname',\n",
       " 'alternatenames',\n",
       " 'latitude',\n",
       " 'longitude',\n",
       " 'feature_class',\n",
       " 'feature_code',\n",
       " 'country_code',\n",
       " 'cc2',\n",
       " 'admin1_code',\n",
       " 'admin2_code',\n",
       " 'admin3_code',\n",
       " 'admin4_code',\n",
       " 'population',\n",
       " 'elevation',\n",
       " 'dem',\n",
       " 'timezone',\n",
       " 'modification_date']"
      ]
     },
     "execution_count": 23,
     "metadata": {},
     "output_type": "execute_result"
    }
   ],
   "source": [
    "columns = [c.lower().replace(' ', '_') for c in columns]\n",
    "\n",
    "columns"
   ]
  },
  {
   "cell_type": "code",
   "execution_count": 27,
   "metadata": {},
   "outputs": [],
   "source": [
    "city1000 = '/Users/chenwang/Workspace/github/natural_language_processing_in_action/datasets/cities1000.txt'\n",
    "us_state = '/Users/chenwang/Workspace/github/natural_language_processing_in_action/datasets/states.csv'\n"
   ]
  },
  {
   "cell_type": "code",
   "execution_count": 30,
   "metadata": {},
   "outputs": [],
   "source": [
    "import pandas as pd\n",
    "\n",
    "cities = pd.read_csv(city1000, sep='\\t', index_col=None, low_memory=False, header=None)\n",
    "cities.columns = columns"
   ]
  },
  {
   "cell_type": "code",
   "execution_count": 32,
   "metadata": {},
   "outputs": [],
   "source": [
    "us = cities[(cities.country_code == 'US') & (cities.admin1_code.notnull())].copy()"
   ]
  },
  {
   "cell_type": "code",
   "execution_count": 28,
   "metadata": {},
   "outputs": [],
   "source": [
    "states = pd.read_csv(us_state)"
   ]
  },
  {
   "cell_type": "code",
   "execution_count": 33,
   "metadata": {},
   "outputs": [],
   "source": [
    "states = dict(zip(states.Abbreviation, states.State))"
   ]
  },
  {
   "cell_type": "code",
   "execution_count": 34,
   "metadata": {},
   "outputs": [],
   "source": [
    "us['city'] = us.name.copy()\n",
    "us['st'] = us.admin1_code.copy()\n",
    "us['state'] = us.st.map(states)"
   ]
  },
  {
   "cell_type": "code",
   "execution_count": 37,
   "metadata": {},
   "outputs": [
    {
     "data": {
      "text/html": [
       "<div>\n",
       "<style scoped>\n",
       "    .dataframe tbody tr th:only-of-type {\n",
       "        vertical-align: middle;\n",
       "    }\n",
       "\n",
       "    .dataframe tbody tr th {\n",
       "        vertical-align: top;\n",
       "    }\n",
       "\n",
       "    .dataframe thead th {\n",
       "        text-align: right;\n",
       "    }\n",
       "</style>\n",
       "<table border=\"1\" class=\"dataframe\">\n",
       "  <thead>\n",
       "    <tr style=\"text-align: right;\">\n",
       "      <th></th>\n",
       "      <th>city</th>\n",
       "      <th>st</th>\n",
       "      <th>state</th>\n",
       "    </tr>\n",
       "  </thead>\n",
       "  <tbody>\n",
       "    <tr>\n",
       "      <th>118528</th>\n",
       "      <td>Bay Minette</td>\n",
       "      <td>AL</td>\n",
       "      <td>Alabama</td>\n",
       "    </tr>\n",
       "    <tr>\n",
       "      <th>118529</th>\n",
       "      <td>Edna</td>\n",
       "      <td>TX</td>\n",
       "      <td>Texas</td>\n",
       "    </tr>\n",
       "    <tr>\n",
       "      <th>118530</th>\n",
       "      <td>Bayou La Batre</td>\n",
       "      <td>AL</td>\n",
       "      <td>Alabama</td>\n",
       "    </tr>\n",
       "    <tr>\n",
       "      <th>118531</th>\n",
       "      <td>Henderson</td>\n",
       "      <td>TX</td>\n",
       "      <td>Texas</td>\n",
       "    </tr>\n",
       "    <tr>\n",
       "      <th>118532</th>\n",
       "      <td>Natalia</td>\n",
       "      <td>TX</td>\n",
       "      <td>Texas</td>\n",
       "    </tr>\n",
       "  </tbody>\n",
       "</table>\n",
       "</div>"
      ],
      "text/plain": [
       "                  city  st    state\n",
       "118528     Bay Minette  AL  Alabama\n",
       "118529            Edna  TX    Texas\n",
       "118530  Bayou La Batre  AL  Alabama\n",
       "118531       Henderson  TX    Texas\n",
       "118532         Natalia  TX    Texas"
      ]
     },
     "execution_count": 37,
     "metadata": {},
     "output_type": "execute_result"
    }
   ],
   "source": [
    "us[us.columns[-3:]].head()"
   ]
  },
  {
   "cell_type": "markdown",
   "metadata": {},
   "source": [
    "现在我们对于每个城市都有对应的state name 和abbr. "
   ]
  },
  {
   "cell_type": "code",
   "execution_count": 38,
   "metadata": {},
   "outputs": [
    {
     "name": "stderr",
     "output_type": "stream",
     "text": [
      "/Users/chenwang/anaconda3/envs/tf/lib/python3.6/site-packages/ipykernel_launcher.py:1: FutureWarning: The pandas.np module is deprecated and will be removed from pandas in a future version. Import numpy directly instead\n",
      "  \"\"\"Entry point for launching an IPython kernel.\n"
     ]
    },
    {
     "data": {
      "text/plain": [
       "array(['Edna', 'Henderson', 'Natalia', 'Yorktown', 'Brighton'],\n",
       "      dtype='<U15')"
      ]
     },
     "execution_count": 38,
     "metadata": {},
     "output_type": "execute_result"
    }
   ],
   "source": [
    "vocab = pd.np.concatenate([us.city, us.st, us.state])\n",
    "vocab = np.array([word for word in vocab if word in word_vectors])\n",
    "vocab[:5]"
   ]
  },
  {
   "cell_type": "code",
   "execution_count": 39,
   "metadata": {},
   "outputs": [
    {
     "data": {
      "text/plain": [
       "41316"
      ]
     },
     "execution_count": 39,
     "metadata": {},
     "output_type": "execute_result"
    }
   ],
   "source": [
    "len(vocab)"
   ]
  },
  {
   "cell_type": "code",
   "execution_count": 40,
   "metadata": {},
   "outputs": [],
   "source": [
    "city_plus_state = []"
   ]
  },
  {
   "cell_type": "code",
   "execution_count": 42,
   "metadata": {},
   "outputs": [],
   "source": [
    "for c, state, st in zip(us.city, us.state, us.st):\n",
    "    if c not in vocab:\n",
    "        continue\n",
    "    row = []\n",
    "\n",
    "    if state in vocab:\n",
    "        row.extend(word_vectors[c] + word_vectors[state])\n",
    "    else:\n",
    "        row.extend(word_vectors[c] + word_vectors[st])\n",
    "    \n",
    "    city_plus_state.append(row)"
   ]
  },
  {
   "cell_type": "code",
   "execution_count": 43,
   "metadata": {},
   "outputs": [],
   "source": [
    "us_300D = pd.DataFrame(city_plus_state)"
   ]
  },
  {
   "cell_type": "code",
   "execution_count": 46,
   "metadata": {},
   "outputs": [
    {
     "data": {
      "text/plain": [
       "pandas.core.frame.DataFrame"
      ]
     },
     "execution_count": 46,
     "metadata": {},
     "output_type": "execute_result"
    }
   ],
   "source": [
    "type(us_300D)"
   ]
  },
  {
   "cell_type": "code",
   "execution_count": 50,
   "metadata": {},
   "outputs": [
    {
     "data": {
      "text/plain": [
       "(10950, 300)"
      ]
     },
     "execution_count": 50,
     "metadata": {},
     "output_type": "execute_result"
    }
   ],
   "source": [
    "us_300D.shape"
   ]
  },
  {
   "cell_type": "code",
   "execution_count": 44,
   "metadata": {},
   "outputs": [],
   "source": [
    "from sklearn.decomposition import PCA\n",
    "\n",
    "pca = PCA(n_components=2) \n",
    "us_2D = pca.fit_transform(us_300D.iloc[:, :300])"
   ]
  },
  {
   "cell_type": "code",
   "execution_count": 49,
   "metadata": {},
   "outputs": [
    {
     "data": {
      "text/plain": [
       "(10950, 2)"
      ]
     },
     "execution_count": 49,
     "metadata": {},
     "output_type": "execute_result"
    }
   ],
   "source": [
    "us_2D.shape"
   ]
  },
  {
   "cell_type": "code",
   "execution_count": 51,
   "metadata": {},
   "outputs": [],
   "source": [
    "# 这里需要构建一个2D 的df"
   ]
  },
  {
   "cell_type": "markdown",
   "metadata": {},
   "source": [
    "#### plot"
   ]
  },
  {
   "cell_type": "code",
   "execution_count": 45,
   "metadata": {},
   "outputs": [],
   "source": [
    "def offline_plotly_scatter_bubble(df, x='x', y='y', size_col='size', text_col='text',\n",
    "                                  category_col='category', possible_categories=None,\n",
    "                                  filename=None,\n",
    "                                  config={'displaylogo': False},\n",
    "                                  xscale=None, yscale='log',\n",
    "                                  layout={'hovermode': 'closest', 'showlegend': False, 'autosize': True},\n",
    "                                  marker={'sizemode': 'area'},\n",
    "                                  min_size=10,\n",
    "                                  ):\n",
    "    r\"\"\"Interactive scatterplot of a DataFrame with the size and color of circles linke to two columns\n",
    "\n",
    "    config keys:\n",
    "      fillFrame setBackground displaylogo sendData showLink linkText staticPlot scrollZoom plot3dPixelRatio displayModeBar\n",
    "      showTips workspace doubleClick autosizable editable\n",
    "\n",
    "    layout keys:\n",
    "      angularaxis annotations autosize bargap bargroupgap barmode barnorm boxgap boxgroupgap boxmode calendar\n",
    "      direction dragmode font geo height hiddenlabels hiddenlabelssrc hidesources hovermode images legend\n",
    "      mapbox margin orientation paper_bgcolor plot_bgcolor radialaxis scene separators shapes showlegend sliders smith\n",
    "      ternary title titlefont updatemenus width xaxis yaxis\n",
    "\n",
    "    marker keys:\n",
    "      autocolorscale blend border cauto cmax cmin color colorbar colors colorscale colorsrc colorssrc line maxdisplayed\n",
    "      opacity opacitysrc outliercolor reversescale showscale size sizemax sizemin sizemode sizeref sizesrc symbol symbolsrc\n",
    "\n",
    "    marker['sizeref'] gives the denominator of the circle scaling factor.\n",
    "      Typically it should be about a tenth of the minimum 'size' column value\n",
    "\n",
    "    >>> from nlpia.data.loaders import get_data\n",
    "    >>> df = get_data('cities_us_wordvectors_pca2_meta').iloc[:100]\n",
    "    >>> html = offline_plotly_scatter_bubble(\n",
    "    ...     df.sort_values('population', ascending=False)[:350].copy().sort_values('population'),\n",
    "    ...     x='x', y='y',\n",
    "    ...     size_col='population', text_col='name', category_col='timezone',\n",
    "    ...     xscale=None, yscale=None,  # 'log' or None\n",
    "    ...     layout={}, marker={'sizeref': 3000})\n",
    "    \"\"\"\n",
    "    config_default = dict(DEFAULT_PLOTLY_CONFIG)\n",
    "    marker_default = {\n",
    "        'size': size_col or min_size,\n",
    "        'sizemode': 'area',\n",
    "        'sizeref': int(df[size_col].min() * .8) if size_col else min_size}\n",
    "    marker_default.update(marker)\n",
    "    size_col = marker_default.pop('size')\n",
    "    layout_default = {\n",
    "        'xaxis': XAxis(title=x, type=xscale),\n",
    "        'yaxis': YAxis(title=y, type=yscale),\n",
    "    }\n",
    "    layout_default.update(**layout)\n",
    "    if config is not None:\n",
    "        config_default.update(config)\n",
    "    df.columns = clean_columns(df.columns)\n",
    "    if possible_categories is None and category_col is not None:\n",
    "        if category_col in df.columns:\n",
    "            category_labels = df[category_col]\n",
    "        else:\n",
    "            category_labels = np.array(category_col)\n",
    "        possible_categories = list(set(category_labels))\n",
    "    possible_categories = [None] if possible_categories is None else possible_categories\n",
    "    if category_col and category_col in df:\n",
    "        masks = [np.array(df[category_col] == label) for label in possible_categories]\n",
    "    else:\n",
    "        masks = [np.array([True] * len(df))] * len(possible_categories)\n",
    "    data = {'data': [\n",
    "            Scatter(x=df[x][mask].values,\n",
    "                    y=df[y][mask].values,\n",
    "                    text=df[text_col][mask].values,\n",
    "                    marker=Marker(size=df[size_col][mask] if size_col in df.columns else size_col,\n",
    "                                  **marker_default),\n",
    "                    mode='markers',\n",
    "                    name=str(category_name)) for (category_name, mask) in zip(possible_categories, masks)\n",
    "            ],\n",
    "            'layout': Layout(**layout_default)\n",
    "            }\n",
    "    return offline_plotly_data(data, filename=filename, config=config_default)\n"
   ]
  },
  {
   "cell_type": "code",
   "execution_count": 53,
   "metadata": {},
   "outputs": [
    {
     "ename": "KeyError",
     "evalue": "'population'",
     "output_type": "error",
     "traceback": [
      "\u001b[0;31m---------------------------------------------------------------------------\u001b[0m",
      "\u001b[0;31mKeyError\u001b[0m                                  Traceback (most recent call last)",
      "\u001b[0;32m<ipython-input-53-c431550db217>\u001b[0m in \u001b[0;36m<module>\u001b[0;34m\u001b[0m\n\u001b[1;32m      2\u001b[0m \u001b[0;32mfrom\u001b[0m \u001b[0mmatplotlib\u001b[0m \u001b[0;32mimport\u001b[0m \u001b[0mpyplot\u001b[0m \u001b[0;32mas\u001b[0m \u001b[0mplt\u001b[0m\u001b[0;34m\u001b[0m\u001b[0;34m\u001b[0m\u001b[0m\n\u001b[1;32m      3\u001b[0m html = offline_plotly_scatter_bubble(\n\u001b[0;32m----> 4\u001b[0;31m     \u001b[0mus_2D_df\u001b[0m\u001b[0;34m.\u001b[0m\u001b[0msort_values\u001b[0m\u001b[0;34m(\u001b[0m\u001b[0;34m'population'\u001b[0m\u001b[0;34m,\u001b[0m \u001b[0mascending\u001b[0m\u001b[0;34m=\u001b[0m\u001b[0;32mFalse\u001b[0m\u001b[0;34m)\u001b[0m\u001b[0;34m[\u001b[0m\u001b[0;34m:\u001b[0m\u001b[0;36m350\u001b[0m\u001b[0;34m]\u001b[0m\u001b[0;34m.\u001b[0m\u001b[0mcopy\u001b[0m\u001b[0;34m(\u001b[0m\u001b[0;34m)\u001b[0m\u001b[0;34m.\u001b[0m\u001b[0msort_values\u001b[0m\u001b[0;34m(\u001b[0m\u001b[0;34m'population'\u001b[0m\u001b[0;34m)\u001b[0m\u001b[0;34m,\u001b[0m\u001b[0;34m\u001b[0m\u001b[0;34m\u001b[0m\u001b[0m\n\u001b[0m\u001b[1;32m      5\u001b[0m     \u001b[0mfilename\u001b[0m\u001b[0;34m=\u001b[0m\u001b[0;34m'plotly_scatter_bubble.html'\u001b[0m\u001b[0;34m,\u001b[0m\u001b[0;34m\u001b[0m\u001b[0;34m\u001b[0m\u001b[0m\n\u001b[1;32m      6\u001b[0m     \u001b[0mx\u001b[0m\u001b[0;34m=\u001b[0m\u001b[0;34m'x'\u001b[0m\u001b[0;34m,\u001b[0m \u001b[0my\u001b[0m\u001b[0;34m=\u001b[0m\u001b[0;34m'y'\u001b[0m\u001b[0;34m,\u001b[0m\u001b[0;34m\u001b[0m\u001b[0;34m\u001b[0m\u001b[0m\n",
      "\u001b[0;32m~/anaconda3/envs/tf/lib/python3.6/site-packages/pandas/core/frame.py\u001b[0m in \u001b[0;36msort_values\u001b[0;34m(self, by, axis, ascending, inplace, kind, na_position, ignore_index)\u001b[0m\n\u001b[1;32m   4922\u001b[0m \u001b[0;34m\u001b[0m\u001b[0m\n\u001b[1;32m   4923\u001b[0m             \u001b[0mby\u001b[0m \u001b[0;34m=\u001b[0m \u001b[0mby\u001b[0m\u001b[0;34m[\u001b[0m\u001b[0;36m0\u001b[0m\u001b[0;34m]\u001b[0m\u001b[0;34m\u001b[0m\u001b[0;34m\u001b[0m\u001b[0m\n\u001b[0;32m-> 4924\u001b[0;31m             \u001b[0mk\u001b[0m \u001b[0;34m=\u001b[0m \u001b[0mself\u001b[0m\u001b[0;34m.\u001b[0m\u001b[0m_get_label_or_level_values\u001b[0m\u001b[0;34m(\u001b[0m\u001b[0mby\u001b[0m\u001b[0;34m,\u001b[0m \u001b[0maxis\u001b[0m\u001b[0;34m=\u001b[0m\u001b[0maxis\u001b[0m\u001b[0;34m)\u001b[0m\u001b[0;34m\u001b[0m\u001b[0;34m\u001b[0m\u001b[0m\n\u001b[0m\u001b[1;32m   4925\u001b[0m \u001b[0;34m\u001b[0m\u001b[0m\n\u001b[1;32m   4926\u001b[0m             \u001b[0;32mif\u001b[0m \u001b[0misinstance\u001b[0m\u001b[0;34m(\u001b[0m\u001b[0mascending\u001b[0m\u001b[0;34m,\u001b[0m \u001b[0;34m(\u001b[0m\u001b[0mtuple\u001b[0m\u001b[0;34m,\u001b[0m \u001b[0mlist\u001b[0m\u001b[0;34m)\u001b[0m\u001b[0;34m)\u001b[0m\u001b[0;34m:\u001b[0m\u001b[0;34m\u001b[0m\u001b[0;34m\u001b[0m\u001b[0m\n",
      "\u001b[0;32m~/anaconda3/envs/tf/lib/python3.6/site-packages/pandas/core/generic.py\u001b[0m in \u001b[0;36m_get_label_or_level_values\u001b[0;34m(self, key, axis)\u001b[0m\n\u001b[1;32m   1689\u001b[0m             \u001b[0mvalues\u001b[0m \u001b[0;34m=\u001b[0m \u001b[0mself\u001b[0m\u001b[0;34m.\u001b[0m\u001b[0maxes\u001b[0m\u001b[0;34m[\u001b[0m\u001b[0maxis\u001b[0m\u001b[0;34m]\u001b[0m\u001b[0;34m.\u001b[0m\u001b[0mget_level_values\u001b[0m\u001b[0;34m(\u001b[0m\u001b[0mkey\u001b[0m\u001b[0;34m)\u001b[0m\u001b[0;34m.\u001b[0m\u001b[0m_values\u001b[0m\u001b[0;34m\u001b[0m\u001b[0;34m\u001b[0m\u001b[0m\n\u001b[1;32m   1690\u001b[0m         \u001b[0;32melse\u001b[0m\u001b[0;34m:\u001b[0m\u001b[0;34m\u001b[0m\u001b[0;34m\u001b[0m\u001b[0m\n\u001b[0;32m-> 1691\u001b[0;31m             \u001b[0;32mraise\u001b[0m \u001b[0mKeyError\u001b[0m\u001b[0;34m(\u001b[0m\u001b[0mkey\u001b[0m\u001b[0;34m)\u001b[0m\u001b[0;34m\u001b[0m\u001b[0;34m\u001b[0m\u001b[0m\n\u001b[0m\u001b[1;32m   1692\u001b[0m \u001b[0;34m\u001b[0m\u001b[0m\n\u001b[1;32m   1693\u001b[0m         \u001b[0;31m# Check for duplicates\u001b[0m\u001b[0;34m\u001b[0m\u001b[0;34m\u001b[0m\u001b[0;34m\u001b[0m\u001b[0m\n",
      "\u001b[0;31mKeyError\u001b[0m: 'population'"
     ]
    }
   ],
   "source": [
    "import seaborn\n",
    "from matplotlib import pyplot as plt\n",
    "html = offline_plotly_scatter_bubble(\n",
    "    us_2D_df.sort_values('population', ascending=False)[:350].copy().sort_values('population'),\n",
    "    filename='plotly_scatter_bubble.html',\n",
    "    x='x', y='y',\n",
    "    size_col='population', text_col='name', category_col='timezone',\n",
    "    xscale=None, yscale=None, # 'log' or None\n",
    "    layout={}, marker={'sizeref': 3000})"
   ]
  },
  {
   "cell_type": "code",
   "execution_count": null,
   "metadata": {},
   "outputs": [],
   "source": []
  }
 ],
 "metadata": {
  "kernelspec": {
   "display_name": "Python 3",
   "language": "python",
   "name": "python3"
  },
  "language_info": {
   "codemirror_mode": {
    "name": "ipython",
    "version": 3
   },
   "file_extension": ".py",
   "mimetype": "text/x-python",
   "name": "python",
   "nbconvert_exporter": "python",
   "pygments_lexer": "ipython3",
   "version": "3.6.8"
  }
 },
 "nbformat": 4,
 "nbformat_minor": 2
}
